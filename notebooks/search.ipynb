{
 "cells": [
  {
   "cell_type": "markdown",
   "id": "bfda7b6a",
   "metadata": {},
   "source": [
    "# Install \n",
    "\n",
    "Install this project's requirements. "
   ]
  },
  {
   "cell_type": "code",
   "execution_count": null,
   "id": "e31266d9",
   "metadata": {},
   "outputs": [],
   "source": [
    "%pip install -r ../requirements.txt\n"
   ]
  },
  {
   "cell_type": "markdown",
   "id": "4cf5a548",
   "metadata": {},
   "source": [
    "# Configure\n",
    "\n",
    "Configure the credentials to run the search."
   ]
  },
  {
   "cell_type": "code",
   "execution_count": null,
   "id": "e7bd7033",
   "metadata": {},
   "outputs": [],
   "source": [
    "import ipywidgets as widgets\n",
    "\n",
    "openai_input = widgets.Text(\n",
    "    placeholder='Enter your OpenAI API key',\n",
    "    description='OPENAI_API_KEY:',\n",
    ")\n",
    "\n",
    "tavily_input = widgets.Text(\n",
    "    placeholder='Enter your Tavily API key',\n",
    "    description='TAVILY_API_KEY:',\n",
    ")\n",
    "\n",
    "# Display the widgets.\n",
    "display(openai_input)\n",
    "display(tavily_input)\n"
   ]
  },
  {
   "cell_type": "markdown",
   "id": "ac1c517a",
   "metadata": {},
   "source": [
    "Create the model, search tool, and agent."
   ]
  },
  {
   "cell_type": "code",
   "execution_count": null,
   "id": "0335467b",
   "metadata": {},
   "outputs": [],
   "source": [
    "from agent_web_search.agents import create_search_agent\n",
    "from agent_web_search.models import OpenAIConfig, create_model\n",
    "from agent_web_search.tools import SearchToolConfig, create_search_tool\n",
    "\n",
    "# Validate the input values.\n",
    "if not openai_input.value or not openai_input.value.strip():\n",
    "    raise ValueError(\"OpenAI API key cannot be empty or contain only whitespace\")\n",
    "\n",
    "if not tavily_input.value or not tavily_input.value.strip():\n",
    "    raise ValueError(\"Tavily API key cannot be empty or contain only whitespace\")\n",
    "\n",
    "# Create the model.\n",
    "openai_config = OpenAIConfig(\n",
    "    model_id=\"gpt-4o\",\n",
    "    api_key=openai_input.value,\n",
    ")\n",
    "model = create_model(openai_config)\n",
    "\n",
    "# Create the search tool.\n",
    "search_tool_config = SearchToolConfig(api_key=tavily_input.value)\n",
    "search_tool = create_search_tool(search_tool_config)\n",
    "\n",
    "# Create the agent.\n",
    "graph = create_search_agent(model, search_tool)\n"
   ]
  },
  {
   "cell_type": "markdown",
   "id": "08280fb5",
   "metadata": {},
   "source": [
    "# Run \n",
    "\n",
    "- Import the search agent graph.\n",
    "- Create the UI."
   ]
  },
  {
   "cell_type": "code",
   "execution_count": null,
   "id": "bf268b08",
   "metadata": {},
   "outputs": [],
   "source": [
    "import ipywidgets as widgets\n",
    "from IPython.display import display\n",
    "\n",
    "# Create a text input widget.\n",
    "message_input = widgets.Text(\n",
    "    value=\"What's the latest news about AI?\",\n",
    "    placeholder='Type your human message here',\n",
    "    description='Message:',\n",
    "    disabled=False\n",
    ")\n",
    "\n",
    "# Display the widget.\n",
    "display(message_input)\n"
   ]
  },
  {
   "cell_type": "markdown",
   "id": "69f10a73",
   "metadata": {},
   "source": [
    "Run the search."
   ]
  },
  {
   "cell_type": "code",
   "execution_count": null,
   "id": "84423719",
   "metadata": {},
   "outputs": [],
   "source": [
    "from langchain_core.messages import HumanMessage\n",
    "\n",
    "messages = [HumanMessage(content=message_input.value)]\n",
    "\n",
    "result = graph.invoke({\"messages\": messages})\n",
    "print(result)\n"
   ]
  },
  {
   "cell_type": "markdown",
   "id": "4a7f2b10",
   "metadata": {},
   "source": [
    "Print the results in a friendly format."
   ]
  },
  {
   "cell_type": "code",
   "execution_count": null,
   "id": "cdf6381e",
   "metadata": {},
   "outputs": [],
   "source": [
    "from pprint import pprint\n",
    "\n",
    "from langchain_core.messages import ToolMessage\n",
    "\n",
    "# Get only tool messages from the result.\n",
    "tool_messages = [\n",
    "    message for message in result[\"messages\"] if isinstance(message, ToolMessage)\n",
    "]\n",
    "\n",
    "# Print each tool message (most likely there will be just one) in a readable format.\n",
    "for i, message in enumerate(tool_messages):\n",
    "    print(f\"\\n--- Tool Message {i+1} ---\")\n",
    "    print(f\"Tool Name: {message.name}\")\n",
    "\n",
    "    items = message.artifact.get(\"results\", [])\n",
    "\n",
    "    for j, item in enumerate(items):\n",
    "        title = item[\"title\"]\n",
    "        url = item[\"url\"]\n",
    "        body = item[\"content\"]\n",
    "\n",
    "        print(f\"\\n--- Result {j+1} ---\")\n",
    "        print(f\"Title: {title}\")\n",
    "        print(f\"URL: {url}\")\n",
    "        pprint(body)\n"
   ]
  }
 ],
 "metadata": {
  "kernelspec": {
   "display_name": ".venv",
   "language": "python",
   "name": "python3"
  },
  "language_info": {
   "codemirror_mode": {
    "name": "ipython",
    "version": 3
   },
   "file_extension": ".py",
   "mimetype": "text/x-python",
   "name": "python",
   "nbconvert_exporter": "python",
   "pygments_lexer": "ipython3",
   "version": "3.13.2"
  }
 },
 "nbformat": 4,
 "nbformat_minor": 5
}
